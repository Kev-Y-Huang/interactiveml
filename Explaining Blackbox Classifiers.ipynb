{
 "cells": [
  {
   "cell_type": "markdown",
   "metadata": {},
   "source": [
    "## Setup a classification experiment"
   ]
  },
  {
   "cell_type": "code",
   "execution_count": 1,
   "metadata": {},
   "outputs": [],
   "source": [
    "import pandas as pd\n",
    "from sklearn.datasets import load_boston\n",
    "from sklearn.model_selection import train_test_split\n",
    "\n",
    "df = pd.read_csv(\n",
    "    \"https://archive.ics.uci.edu/ml/machine-learning-databases/adult/adult.data\",\n",
    "    header=None)\n",
    "df.columns = [\n",
    "    \"Age\", \"WorkClass\", \"fnlwgt\", \"Education\", \"EducationNum\",\n",
    "    \"MaritalStatus\", \"Occupation\", \"Relationship\", \"Race\", \"Gender\",\n",
    "    \"CapitalGain\", \"CapitalLoss\", \"HoursPerWeek\", \"NativeCountry\", \"Income\"\n",
    "]\n",
    "# df = df.sample(frac=0.01, random_state=1)\n",
    "train_cols = df.columns[0:-1]\n",
    "label = df.columns[-1]\n",
    "X = df[train_cols]\n",
    "y = df[label].apply(lambda x: 0 if x == \" <=50K\" else 1) #Turning response into 0 and 1\n",
    "\n",
    "# We have to transform categorical variables to use sklearn models\n",
    "X_enc = pd.get_dummies(X, prefix_sep='.')\n",
    "feature_names = list(X_enc.columns)\n",
    "\n",
    "seed = 1  \n",
    "X_train, X_test, y_train, y_test = train_test_split(X_enc, y, test_size=0.20, random_state=seed)"
   ]
  },
  {
   "cell_type": "markdown",
   "metadata": {},
   "source": [
    "## Train a blackbox classification system"
   ]
  },
  {
   "cell_type": "code",
   "execution_count": 2,
   "metadata": {},
   "outputs": [
    {
     "data": {
      "text/html": [
       "<style>#sk-container-id-1 {color: black;background-color: white;}#sk-container-id-1 pre{padding: 0;}#sk-container-id-1 div.sk-toggleable {background-color: white;}#sk-container-id-1 label.sk-toggleable__label {cursor: pointer;display: block;width: 100%;margin-bottom: 0;padding: 0.3em;box-sizing: border-box;text-align: center;}#sk-container-id-1 label.sk-toggleable__label-arrow:before {content: \"▸\";float: left;margin-right: 0.25em;color: #696969;}#sk-container-id-1 label.sk-toggleable__label-arrow:hover:before {color: black;}#sk-container-id-1 div.sk-estimator:hover label.sk-toggleable__label-arrow:before {color: black;}#sk-container-id-1 div.sk-toggleable__content {max-height: 0;max-width: 0;overflow: hidden;text-align: left;background-color: #f0f8ff;}#sk-container-id-1 div.sk-toggleable__content pre {margin: 0.2em;color: black;border-radius: 0.25em;background-color: #f0f8ff;}#sk-container-id-1 input.sk-toggleable__control:checked~div.sk-toggleable__content {max-height: 200px;max-width: 100%;overflow: auto;}#sk-container-id-1 input.sk-toggleable__control:checked~label.sk-toggleable__label-arrow:before {content: \"▾\";}#sk-container-id-1 div.sk-estimator input.sk-toggleable__control:checked~label.sk-toggleable__label {background-color: #d4ebff;}#sk-container-id-1 div.sk-label input.sk-toggleable__control:checked~label.sk-toggleable__label {background-color: #d4ebff;}#sk-container-id-1 input.sk-hidden--visually {border: 0;clip: rect(1px 1px 1px 1px);clip: rect(1px, 1px, 1px, 1px);height: 1px;margin: -1px;overflow: hidden;padding: 0;position: absolute;width: 1px;}#sk-container-id-1 div.sk-estimator {font-family: monospace;background-color: #f0f8ff;border: 1px dotted black;border-radius: 0.25em;box-sizing: border-box;margin-bottom: 0.5em;}#sk-container-id-1 div.sk-estimator:hover {background-color: #d4ebff;}#sk-container-id-1 div.sk-parallel-item::after {content: \"\";width: 100%;border-bottom: 1px solid gray;flex-grow: 1;}#sk-container-id-1 div.sk-label:hover label.sk-toggleable__label {background-color: #d4ebff;}#sk-container-id-1 div.sk-serial::before {content: \"\";position: absolute;border-left: 1px solid gray;box-sizing: border-box;top: 0;bottom: 0;left: 50%;z-index: 0;}#sk-container-id-1 div.sk-serial {display: flex;flex-direction: column;align-items: center;background-color: white;padding-right: 0.2em;padding-left: 0.2em;position: relative;}#sk-container-id-1 div.sk-item {position: relative;z-index: 1;}#sk-container-id-1 div.sk-parallel {display: flex;align-items: stretch;justify-content: center;background-color: white;position: relative;}#sk-container-id-1 div.sk-item::before, #sk-container-id-1 div.sk-parallel-item::before {content: \"\";position: absolute;border-left: 1px solid gray;box-sizing: border-box;top: 0;bottom: 0;left: 50%;z-index: -1;}#sk-container-id-1 div.sk-parallel-item {display: flex;flex-direction: column;z-index: 1;position: relative;background-color: white;}#sk-container-id-1 div.sk-parallel-item:first-child::after {align-self: flex-end;width: 50%;}#sk-container-id-1 div.sk-parallel-item:last-child::after {align-self: flex-start;width: 50%;}#sk-container-id-1 div.sk-parallel-item:only-child::after {width: 0;}#sk-container-id-1 div.sk-dashed-wrapped {border: 1px dashed gray;margin: 0 0.4em 0.5em 0.4em;box-sizing: border-box;padding-bottom: 0.4em;background-color: white;}#sk-container-id-1 div.sk-label label {font-family: monospace;font-weight: bold;display: inline-block;line-height: 1.2em;}#sk-container-id-1 div.sk-label-container {text-align: center;}#sk-container-id-1 div.sk-container {/* jupyter's `normalize.less` sets `[hidden] { display: none; }` but bootstrap.min.css set `[hidden] { display: none !important; }` so we also need the `!important` here to be able to override the default hidden behavior on the sphinx rendered scikit-learn.org. See: https://github.com/scikit-learn/scikit-learn/issues/21755 */display: inline-block !important;position: relative;}#sk-container-id-1 div.sk-text-repr-fallback {display: none;}</style><div id=\"sk-container-id-1\" class=\"sk-top-container\"><div class=\"sk-text-repr-fallback\"><pre>Pipeline(steps=[(&#x27;pca&#x27;, PCA()), (&#x27;rf&#x27;, RandomForestClassifier(n_jobs=-1))])</pre><b>In a Jupyter environment, please rerun this cell to show the HTML representation or trust the notebook. <br />On GitHub, the HTML representation is unable to render, please try loading this page with nbviewer.org.</b></div><div class=\"sk-container\" hidden><div class=\"sk-item sk-dashed-wrapped\"><div class=\"sk-label-container\"><div class=\"sk-label sk-toggleable\"><input class=\"sk-toggleable__control sk-hidden--visually\" id=\"sk-estimator-id-1\" type=\"checkbox\" ><label for=\"sk-estimator-id-1\" class=\"sk-toggleable__label sk-toggleable__label-arrow\">Pipeline</label><div class=\"sk-toggleable__content\"><pre>Pipeline(steps=[(&#x27;pca&#x27;, PCA()), (&#x27;rf&#x27;, RandomForestClassifier(n_jobs=-1))])</pre></div></div></div><div class=\"sk-serial\"><div class=\"sk-item\"><div class=\"sk-estimator sk-toggleable\"><input class=\"sk-toggleable__control sk-hidden--visually\" id=\"sk-estimator-id-2\" type=\"checkbox\" ><label for=\"sk-estimator-id-2\" class=\"sk-toggleable__label sk-toggleable__label-arrow\">PCA</label><div class=\"sk-toggleable__content\"><pre>PCA()</pre></div></div></div><div class=\"sk-item\"><div class=\"sk-estimator sk-toggleable\"><input class=\"sk-toggleable__control sk-hidden--visually\" id=\"sk-estimator-id-3\" type=\"checkbox\" ><label for=\"sk-estimator-id-3\" class=\"sk-toggleable__label sk-toggleable__label-arrow\">RandomForestClassifier</label><div class=\"sk-toggleable__content\"><pre>RandomForestClassifier(n_jobs=-1)</pre></div></div></div></div></div></div></div>"
      ],
      "text/plain": [
       "Pipeline(steps=[('pca', PCA()), ('rf', RandomForestClassifier(n_jobs=-1))])"
      ]
     },
     "execution_count": 2,
     "metadata": {},
     "output_type": "execute_result"
    }
   ],
   "source": [
    "from sklearn.ensemble import RandomForestClassifier\n",
    "from sklearn.decomposition import PCA\n",
    "from sklearn.pipeline import Pipeline\n",
    "\n",
    "#Blackbox system can include preprocessing, not just a classifier!\n",
    "pca = PCA()\n",
    "rf = RandomForestClassifier(n_estimators=100, n_jobs=-1)\n",
    "\n",
    "blackbox_model = Pipeline([('pca', pca), ('rf', rf)])\n",
    "blackbox_model.fit(X_train, y_train)"
   ]
  },
  {
   "cell_type": "markdown",
   "metadata": {},
   "source": [
    "## Show blackbox model performance"
   ]
  },
  {
   "cell_type": "code",
   "execution_count": 3,
   "metadata": {
    "scrolled": false
   },
   "outputs": [
    {
     "name": "stderr",
     "output_type": "stream",
     "text": [
      "C:\\Users\\kevyh\\CS_Homework\\cs279\\interactiveml\\venv\\lib\\site-packages\\sklearn\\base.py:450: UserWarning: X does not have valid feature names, but PCA was fitted with feature names\n",
      "  warnings.warn(\n",
      "C:\\Users\\kevyh\\CS_Homework\\cs279\\interactiveml\\venv\\lib\\site-packages\\sklearn\\base.py:450: UserWarning: X does not have valid feature names, but PCA was fitted with feature names\n",
      "  warnings.warn(\n"
     ]
    },
    {
     "data": {
      "text/html": [
       "<!-- http://127.0.0.1:7001/3029488851920/ -->\n",
       "<iframe src=\"http://127.0.0.1:7001/3029488851920/\" width=100% height=800 frameBorder=\"0\"></iframe>"
      ]
     },
     "metadata": {},
     "output_type": "display_data"
    }
   ],
   "source": [
    "from interpret import show\n",
    "from interpret.perf import ROC\n",
    "\n",
    "blackbox_perf = ROC(blackbox_model.predict_proba).explain_perf(X_test, y_test, name='Blackbox')\n",
    "show(blackbox_perf)"
   ]
  },
  {
   "cell_type": "markdown",
   "metadata": {},
   "source": [
    "## Local Explanations: How an individual prediction was made"
   ]
  },
  {
   "cell_type": "code",
   "execution_count": 4,
   "metadata": {
    "scrolled": false
   },
   "outputs": [
    {
     "name": "stderr",
     "output_type": "stream",
     "text": [
      "C:\\Users\\kevyh\\CS_Homework\\cs279\\interactiveml\\venv\\lib\\site-packages\\sklearn\\base.py:450: UserWarning: X does not have valid feature names, but PCA was fitted with feature names\n",
      "  warnings.warn(\n",
      "C:\\Users\\kevyh\\CS_Homework\\cs279\\interactiveml\\venv\\lib\\site-packages\\sklearn\\base.py:450: UserWarning: X does not have valid feature names, but PCA was fitted with feature names\n",
      "  warnings.warn(\n",
      "C:\\Users\\kevyh\\CS_Homework\\cs279\\interactiveml\\venv\\lib\\site-packages\\sklearn\\base.py:450: UserWarning: X does not have valid feature names, but PCA was fitted with feature names\n",
      "  warnings.warn(\n",
      "C:\\Users\\kevyh\\CS_Homework\\cs279\\interactiveml\\venv\\lib\\site-packages\\sklearn\\base.py:450: UserWarning: X does not have valid feature names, but PCA was fitted with feature names\n",
      "  warnings.warn(\n",
      "C:\\Users\\kevyh\\CS_Homework\\cs279\\interactiveml\\venv\\lib\\site-packages\\sklearn\\base.py:450: UserWarning: X does not have valid feature names, but PCA was fitted with feature names\n",
      "  warnings.warn(\n",
      "C:\\Users\\kevyh\\CS_Homework\\cs279\\interactiveml\\venv\\lib\\site-packages\\sklearn\\base.py:450: UserWarning: X does not have valid feature names, but PCA was fitted with feature names\n",
      "  warnings.warn(\n",
      "C:\\Users\\kevyh\\CS_Homework\\cs279\\interactiveml\\venv\\lib\\site-packages\\sklearn\\base.py:450: UserWarning: X does not have valid feature names, but PCA was fitted with feature names\n",
      "  warnings.warn(\n"
     ]
    },
    {
     "data": {
      "text/html": [
       "<!-- http://127.0.0.1:7001/3029558225568/ -->\n",
       "<iframe src=\"http://127.0.0.1:7001/3029558225568/\" width=100% height=800 frameBorder=\"0\"></iframe>"
      ]
     },
     "metadata": {},
     "output_type": "display_data"
    }
   ],
   "source": [
    "from interpret.blackbox import LimeTabular\n",
    "from interpret import show\n",
    "\n",
    "#Blackbox explainers need a predict function, and optionally a dataset\n",
    "lime = LimeTabular(predict_fn=blackbox_model.predict_proba, data=X_train, random_state=1)\n",
    "\n",
    "#Pick the instances to explain, optionally pass in labels if you have them\n",
    "lime_local = lime.explain_local(X_test[:5], y_test[:5], name='LIME')\n",
    "\n",
    "show(lime_local)"
   ]
  },
  {
   "cell_type": "code",
   "execution_count": 5,
   "metadata": {},
   "outputs": [
    {
     "name": "stderr",
     "output_type": "stream",
     "text": [
      "X does not have valid feature names, but PCA was fitted with feature names\n",
      "X does not have valid feature names, but PCA was fitted with feature names\n"
     ]
    },
    {
     "data": {
      "application/vnd.jupyter.widget-view+json": {
       "model_id": "4daae2c0835347588b7a818490b43b67",
       "version_major": 2,
       "version_minor": 0
      },
      "text/plain": [
       "  0%|          | 0/5 [00:00<?, ?it/s]"
      ]
     },
     "metadata": {},
     "output_type": "display_data"
    },
    {
     "name": "stderr",
     "output_type": "stream",
     "text": [
      "X does not have valid feature names, but PCA was fitted with feature names\n",
      "X does not have valid feature names, but PCA was fitted with feature names\n",
      "X does not have valid feature names, but PCA was fitted with feature names\n",
      "X does not have valid feature names, but PCA was fitted with feature names\n",
      "X does not have valid feature names, but PCA was fitted with feature names\n",
      "X does not have valid feature names, but PCA was fitted with feature names\n",
      "X does not have valid feature names, but PCA was fitted with feature names\n",
      "X does not have valid feature names, but PCA was fitted with feature names\n",
      "X does not have valid feature names, but PCA was fitted with feature names\n",
      "X does not have valid feature names, but PCA was fitted with feature names\n",
      "X does not have valid feature names, but PCA was fitted with feature names\n"
     ]
    },
    {
     "data": {
      "text/html": [
       "<!-- http://127.0.0.1:7001/3029725927824/ -->\n",
       "<iframe src=\"http://127.0.0.1:7001/3029725927824/\" width=100% height=800 frameBorder=\"0\"></iframe>"
      ]
     },
     "metadata": {},
     "output_type": "display_data"
    }
   ],
   "source": [
    "from interpret.blackbox import ShapKernel\n",
    "import numpy as np\n",
    "\n",
    "background_val = np.median(X_train, axis=0).reshape(1, -1)\n",
    "shap = ShapKernel(predict_fn=blackbox_model.predict_proba, data=background_val, feature_names=feature_names)\n",
    "shap_local = shap.explain_local(X_test[:5], y_test[:5], name='SHAP')\n",
    "show(shap_local)"
   ]
  },
  {
   "cell_type": "markdown",
   "metadata": {},
   "source": [
    "## Global Explanations: How the model behaves overall"
   ]
  },
  {
   "cell_type": "code",
   "execution_count": 6,
   "metadata": {
    "scrolled": false
   },
   "outputs": [
    {
     "name": "stderr",
     "output_type": "stream",
     "text": [
      "X does not have valid feature names, but PCA was fitted with feature names\n",
      "X does not have valid feature names, but PCA was fitted with feature names\n"
     ]
    },
    {
     "data": {
      "text/html": [
       "<!-- http://127.0.0.1:7001/3029556452976/ -->\n",
       "<iframe src=\"http://127.0.0.1:7001/3029556452976/\" width=100% height=800 frameBorder=\"0\"></iframe>"
      ]
     },
     "metadata": {},
     "output_type": "display_data"
    }
   ],
   "source": [
    "from interpret.blackbox import MorrisSensitivity\n",
    "\n",
    "sensitivity = MorrisSensitivity(predict_fn=blackbox_model.predict_proba, data=X_train)\n",
    "sensitivity_global = sensitivity.explain_global(name=\"Global Sensitivity\")\n",
    "\n",
    "show(sensitivity_global)"
   ]
  },
  {
   "cell_type": "code",
   "execution_count": 7,
   "metadata": {},
   "outputs": [
    {
     "name": "stderr",
     "output_type": "stream",
     "text": [
      "X does not have valid feature names, but PCA was fitted with feature names\n",
      "X does not have valid feature names, but PCA was fitted with feature names\n",
      "X does not have valid feature names, but PCA was fitted with feature names\n",
      "X does not have valid feature names, but PCA was fitted with feature names\n",
      "X does not have valid feature names, but PCA was fitted with feature names\n",
      "X does not have valid feature names, but PCA was fitted with feature names\n",
      "X does not have valid feature names, but PCA was fitted with feature names\n",
      "X does not have valid feature names, but PCA was fitted with feature names\n",
      "X does not have valid feature names, but PCA was fitted with feature names\n",
      "X does not have valid feature names, but PCA was fitted with feature names\n",
      "X does not have valid feature names, but PCA was fitted with feature names\n",
      "X does not have valid feature names, but PCA was fitted with feature names\n",
      "X does not have valid feature names, but PCA was fitted with feature names\n",
      "X does not have valid feature names, but PCA was fitted with feature names\n",
      "X does not have valid feature names, but PCA was fitted with feature names\n",
      "X does not have valid feature names, but PCA was fitted with feature names\n",
      "X does not have valid feature names, but PCA was fitted with feature names\n",
      "X does not have valid feature names, but PCA was fitted with feature names\n",
      "X does not have valid feature names, but PCA was fitted with feature names\n",
      "X does not have valid feature names, but PCA was fitted with feature names\n",
      "X does not have valid feature names, but PCA was fitted with feature names\n",
      "X does not have valid feature names, but PCA was fitted with feature names\n",
      "X does not have valid feature names, but PCA was fitted with feature names\n",
      "X does not have valid feature names, but PCA was fitted with feature names\n",
      "X does not have valid feature names, but PCA was fitted with feature names\n",
      "X does not have valid feature names, but PCA was fitted with feature names\n",
      "X does not have valid feature names, but PCA was fitted with feature names\n",
      "X does not have valid feature names, but PCA was fitted with feature names\n",
      "X does not have valid feature names, but PCA was fitted with feature names\n",
      "X does not have valid feature names, but PCA was fitted with feature names\n",
      "X does not have valid feature names, but PCA was fitted with feature names\n",
      "X does not have valid feature names, but PCA was fitted with feature names\n",
      "X does not have valid feature names, but PCA was fitted with feature names\n",
      "X does not have valid feature names, but PCA was fitted with feature names\n",
      "X does not have valid feature names, but PCA was fitted with feature names\n",
      "X does not have valid feature names, but PCA was fitted with feature names\n",
      "X does not have valid feature names, but PCA was fitted with feature names\n",
      "X does not have valid feature names, but PCA was fitted with feature names\n",
      "X does not have valid feature names, but PCA was fitted with feature names\n",
      "X does not have valid feature names, but PCA was fitted with feature names\n",
      "X does not have valid feature names, but PCA was fitted with feature names\n",
      "X does not have valid feature names, but PCA was fitted with feature names\n",
      "X does not have valid feature names, but PCA was fitted with feature names\n",
      "X does not have valid feature names, but PCA was fitted with feature names\n",
      "X does not have valid feature names, but PCA was fitted with feature names\n",
      "X does not have valid feature names, but PCA was fitted with feature names\n",
      "X does not have valid feature names, but PCA was fitted with feature names\n",
      "X does not have valid feature names, but PCA was fitted with feature names\n",
      "X does not have valid feature names, but PCA was fitted with feature names\n",
      "X does not have valid feature names, but PCA was fitted with feature names\n",
      "X does not have valid feature names, but PCA was fitted with feature names\n",
      "X does not have valid feature names, but PCA was fitted with feature names\n",
      "X does not have valid feature names, but PCA was fitted with feature names\n",
      "X does not have valid feature names, but PCA was fitted with feature names\n",
      "X does not have valid feature names, but PCA was fitted with feature names\n",
      "X does not have valid feature names, but PCA was fitted with feature names\n",
      "X does not have valid feature names, but PCA was fitted with feature names\n",
      "X does not have valid feature names, but PCA was fitted with feature names\n",
      "X does not have valid feature names, but PCA was fitted with feature names\n",
      "X does not have valid feature names, but PCA was fitted with feature names\n",
      "X does not have valid feature names, but PCA was fitted with feature names\n",
      "X does not have valid feature names, but PCA was fitted with feature names\n",
      "X does not have valid feature names, but PCA was fitted with feature names\n",
      "X does not have valid feature names, but PCA was fitted with feature names\n",
      "X does not have valid feature names, but PCA was fitted with feature names\n",
      "X does not have valid feature names, but PCA was fitted with feature names\n",
      "X does not have valid feature names, but PCA was fitted with feature names\n",
      "X does not have valid feature names, but PCA was fitted with feature names\n",
      "X does not have valid feature names, but PCA was fitted with feature names\n",
      "X does not have valid feature names, but PCA was fitted with feature names\n",
      "X does not have valid feature names, but PCA was fitted with feature names\n",
      "X does not have valid feature names, but PCA was fitted with feature names\n",
      "X does not have valid feature names, but PCA was fitted with feature names\n",
      "X does not have valid feature names, but PCA was fitted with feature names\n",
      "X does not have valid feature names, but PCA was fitted with feature names\n",
      "X does not have valid feature names, but PCA was fitted with feature names\n",
      "X does not have valid feature names, but PCA was fitted with feature names\n",
      "X does not have valid feature names, but PCA was fitted with feature names\n",
      "X does not have valid feature names, but PCA was fitted with feature names\n",
      "X does not have valid feature names, but PCA was fitted with feature names\n",
      "X does not have valid feature names, but PCA was fitted with feature names\n",
      "X does not have valid feature names, but PCA was fitted with feature names\n",
      "X does not have valid feature names, but PCA was fitted with feature names\n",
      "X does not have valid feature names, but PCA was fitted with feature names\n",
      "X does not have valid feature names, but PCA was fitted with feature names\n",
      "X does not have valid feature names, but PCA was fitted with feature names\n",
      "X does not have valid feature names, but PCA was fitted with feature names\n",
      "X does not have valid feature names, but PCA was fitted with feature names\n",
      "X does not have valid feature names, but PCA was fitted with feature names\n",
      "X does not have valid feature names, but PCA was fitted with feature names\n",
      "X does not have valid feature names, but PCA was fitted with feature names\n",
      "X does not have valid feature names, but PCA was fitted with feature names\n",
      "X does not have valid feature names, but PCA was fitted with feature names\n",
      "X does not have valid feature names, but PCA was fitted with feature names\n",
      "X does not have valid feature names, but PCA was fitted with feature names\n",
      "X does not have valid feature names, but PCA was fitted with feature names\n",
      "X does not have valid feature names, but PCA was fitted with feature names\n",
      "X does not have valid feature names, but PCA was fitted with feature names\n",
      "X does not have valid feature names, but PCA was fitted with feature names\n",
      "X does not have valid feature names, but PCA was fitted with feature names\n",
      "X does not have valid feature names, but PCA was fitted with feature names\n",
      "X does not have valid feature names, but PCA was fitted with feature names\n",
      "X does not have valid feature names, but PCA was fitted with feature names\n",
      "X does not have valid feature names, but PCA was fitted with feature names\n",
      "X does not have valid feature names, but PCA was fitted with feature names\n",
      "X does not have valid feature names, but PCA was fitted with feature names\n",
      "X does not have valid feature names, but PCA was fitted with feature names\n",
      "X does not have valid feature names, but PCA was fitted with feature names\n",
      "X does not have valid feature names, but PCA was fitted with feature names\n",
      "X does not have valid feature names, but PCA was fitted with feature names\n"
     ]
    },
    {
     "name": "stderr",
     "output_type": "stream",
     "text": [
      "X does not have valid feature names, but PCA was fitted with feature names\n",
      "X does not have valid feature names, but PCA was fitted with feature names\n",
      "X does not have valid feature names, but PCA was fitted with feature names\n",
      "X does not have valid feature names, but PCA was fitted with feature names\n",
      "X does not have valid feature names, but PCA was fitted with feature names\n",
      "X does not have valid feature names, but PCA was fitted with feature names\n",
      "X does not have valid feature names, but PCA was fitted with feature names\n",
      "X does not have valid feature names, but PCA was fitted with feature names\n",
      "X does not have valid feature names, but PCA was fitted with feature names\n",
      "X does not have valid feature names, but PCA was fitted with feature names\n",
      "X does not have valid feature names, but PCA was fitted with feature names\n",
      "X does not have valid feature names, but PCA was fitted with feature names\n",
      "X does not have valid feature names, but PCA was fitted with feature names\n",
      "X does not have valid feature names, but PCA was fitted with feature names\n",
      "X does not have valid feature names, but PCA was fitted with feature names\n",
      "X does not have valid feature names, but PCA was fitted with feature names\n",
      "X does not have valid feature names, but PCA was fitted with feature names\n",
      "X does not have valid feature names, but PCA was fitted with feature names\n",
      "X does not have valid feature names, but PCA was fitted with feature names\n",
      "X does not have valid feature names, but PCA was fitted with feature names\n",
      "X does not have valid feature names, but PCA was fitted with feature names\n",
      "X does not have valid feature names, but PCA was fitted with feature names\n",
      "X does not have valid feature names, but PCA was fitted with feature names\n",
      "X does not have valid feature names, but PCA was fitted with feature names\n",
      "X does not have valid feature names, but PCA was fitted with feature names\n",
      "X does not have valid feature names, but PCA was fitted with feature names\n",
      "X does not have valid feature names, but PCA was fitted with feature names\n",
      "X does not have valid feature names, but PCA was fitted with feature names\n",
      "X does not have valid feature names, but PCA was fitted with feature names\n",
      "X does not have valid feature names, but PCA was fitted with feature names\n",
      "X does not have valid feature names, but PCA was fitted with feature names\n",
      "X does not have valid feature names, but PCA was fitted with feature names\n",
      "X does not have valid feature names, but PCA was fitted with feature names\n",
      "X does not have valid feature names, but PCA was fitted with feature names\n",
      "X does not have valid feature names, but PCA was fitted with feature names\n",
      "X does not have valid feature names, but PCA was fitted with feature names\n",
      "X does not have valid feature names, but PCA was fitted with feature names\n",
      "X does not have valid feature names, but PCA was fitted with feature names\n",
      "X does not have valid feature names, but PCA was fitted with feature names\n",
      "X does not have valid feature names, but PCA was fitted with feature names\n",
      "X does not have valid feature names, but PCA was fitted with feature names\n",
      "X does not have valid feature names, but PCA was fitted with feature names\n",
      "X does not have valid feature names, but PCA was fitted with feature names\n",
      "X does not have valid feature names, but PCA was fitted with feature names\n",
      "X does not have valid feature names, but PCA was fitted with feature names\n",
      "X does not have valid feature names, but PCA was fitted with feature names\n",
      "X does not have valid feature names, but PCA was fitted with feature names\n",
      "X does not have valid feature names, but PCA was fitted with feature names\n",
      "X does not have valid feature names, but PCA was fitted with feature names\n",
      "X does not have valid feature names, but PCA was fitted with feature names\n",
      "X does not have valid feature names, but PCA was fitted with feature names\n",
      "X does not have valid feature names, but PCA was fitted with feature names\n",
      "X does not have valid feature names, but PCA was fitted with feature names\n",
      "X does not have valid feature names, but PCA was fitted with feature names\n",
      "X does not have valid feature names, but PCA was fitted with feature names\n",
      "X does not have valid feature names, but PCA was fitted with feature names\n",
      "X does not have valid feature names, but PCA was fitted with feature names\n",
      "X does not have valid feature names, but PCA was fitted with feature names\n",
      "X does not have valid feature names, but PCA was fitted with feature names\n",
      "X does not have valid feature names, but PCA was fitted with feature names\n",
      "X does not have valid feature names, but PCA was fitted with feature names\n",
      "X does not have valid feature names, but PCA was fitted with feature names\n",
      "X does not have valid feature names, but PCA was fitted with feature names\n",
      "X does not have valid feature names, but PCA was fitted with feature names\n",
      "X does not have valid feature names, but PCA was fitted with feature names\n",
      "X does not have valid feature names, but PCA was fitted with feature names\n",
      "X does not have valid feature names, but PCA was fitted with feature names\n",
      "X does not have valid feature names, but PCA was fitted with feature names\n",
      "X does not have valid feature names, but PCA was fitted with feature names\n",
      "X does not have valid feature names, but PCA was fitted with feature names\n",
      "X does not have valid feature names, but PCA was fitted with feature names\n",
      "X does not have valid feature names, but PCA was fitted with feature names\n",
      "X does not have valid feature names, but PCA was fitted with feature names\n",
      "X does not have valid feature names, but PCA was fitted with feature names\n",
      "X does not have valid feature names, but PCA was fitted with feature names\n",
      "X does not have valid feature names, but PCA was fitted with feature names\n",
      "X does not have valid feature names, but PCA was fitted with feature names\n",
      "X does not have valid feature names, but PCA was fitted with feature names\n",
      "X does not have valid feature names, but PCA was fitted with feature names\n",
      "X does not have valid feature names, but PCA was fitted with feature names\n",
      "X does not have valid feature names, but PCA was fitted with feature names\n",
      "X does not have valid feature names, but PCA was fitted with feature names\n",
      "X does not have valid feature names, but PCA was fitted with feature names\n",
      "X does not have valid feature names, but PCA was fitted with feature names\n",
      "X does not have valid feature names, but PCA was fitted with feature names\n",
      "X does not have valid feature names, but PCA was fitted with feature names\n",
      "X does not have valid feature names, but PCA was fitted with feature names\n",
      "X does not have valid feature names, but PCA was fitted with feature names\n",
      "X does not have valid feature names, but PCA was fitted with feature names\n",
      "X does not have valid feature names, but PCA was fitted with feature names\n",
      "X does not have valid feature names, but PCA was fitted with feature names\n",
      "X does not have valid feature names, but PCA was fitted with feature names\n",
      "X does not have valid feature names, but PCA was fitted with feature names\n",
      "X does not have valid feature names, but PCA was fitted with feature names\n",
      "X does not have valid feature names, but PCA was fitted with feature names\n",
      "X does not have valid feature names, but PCA was fitted with feature names\n",
      "X does not have valid feature names, but PCA was fitted with feature names\n",
      "X does not have valid feature names, but PCA was fitted with feature names\n",
      "X does not have valid feature names, but PCA was fitted with feature names\n",
      "X does not have valid feature names, but PCA was fitted with feature names\n",
      "X does not have valid feature names, but PCA was fitted with feature names\n",
      "X does not have valid feature names, but PCA was fitted with feature names\n",
      "X does not have valid feature names, but PCA was fitted with feature names\n",
      "X does not have valid feature names, but PCA was fitted with feature names\n",
      "X does not have valid feature names, but PCA was fitted with feature names\n",
      "X does not have valid feature names, but PCA was fitted with feature names\n",
      "X does not have valid feature names, but PCA was fitted with feature names\n",
      "X does not have valid feature names, but PCA was fitted with feature names\n",
      "X does not have valid feature names, but PCA was fitted with feature names\n",
      "X does not have valid feature names, but PCA was fitted with feature names\n"
     ]
    },
    {
     "name": "stderr",
     "output_type": "stream",
     "text": [
      "X does not have valid feature names, but PCA was fitted with feature names\n",
      "X does not have valid feature names, but PCA was fitted with feature names\n",
      "X does not have valid feature names, but PCA was fitted with feature names\n",
      "X does not have valid feature names, but PCA was fitted with feature names\n",
      "X does not have valid feature names, but PCA was fitted with feature names\n",
      "X does not have valid feature names, but PCA was fitted with feature names\n",
      "X does not have valid feature names, but PCA was fitted with feature names\n",
      "X does not have valid feature names, but PCA was fitted with feature names\n",
      "X does not have valid feature names, but PCA was fitted with feature names\n",
      "X does not have valid feature names, but PCA was fitted with feature names\n",
      "X does not have valid feature names, but PCA was fitted with feature names\n",
      "X does not have valid feature names, but PCA was fitted with feature names\n",
      "X does not have valid feature names, but PCA was fitted with feature names\n",
      "X does not have valid feature names, but PCA was fitted with feature names\n",
      "X does not have valid feature names, but PCA was fitted with feature names\n",
      "X does not have valid feature names, but PCA was fitted with feature names\n",
      "X does not have valid feature names, but PCA was fitted with feature names\n",
      "X does not have valid feature names, but PCA was fitted with feature names\n",
      "X does not have valid feature names, but PCA was fitted with feature names\n",
      "X does not have valid feature names, but PCA was fitted with feature names\n",
      "X does not have valid feature names, but PCA was fitted with feature names\n",
      "X does not have valid feature names, but PCA was fitted with feature names\n",
      "X does not have valid feature names, but PCA was fitted with feature names\n",
      "X does not have valid feature names, but PCA was fitted with feature names\n",
      "X does not have valid feature names, but PCA was fitted with feature names\n",
      "X does not have valid feature names, but PCA was fitted with feature names\n",
      "X does not have valid feature names, but PCA was fitted with feature names\n",
      "X does not have valid feature names, but PCA was fitted with feature names\n",
      "X does not have valid feature names, but PCA was fitted with feature names\n",
      "X does not have valid feature names, but PCA was fitted with feature names\n",
      "X does not have valid feature names, but PCA was fitted with feature names\n",
      "X does not have valid feature names, but PCA was fitted with feature names\n",
      "X does not have valid feature names, but PCA was fitted with feature names\n",
      "X does not have valid feature names, but PCA was fitted with feature names\n",
      "X does not have valid feature names, but PCA was fitted with feature names\n",
      "X does not have valid feature names, but PCA was fitted with feature names\n",
      "X does not have valid feature names, but PCA was fitted with feature names\n",
      "X does not have valid feature names, but PCA was fitted with feature names\n",
      "X does not have valid feature names, but PCA was fitted with feature names\n",
      "X does not have valid feature names, but PCA was fitted with feature names\n",
      "X does not have valid feature names, but PCA was fitted with feature names\n",
      "X does not have valid feature names, but PCA was fitted with feature names\n",
      "X does not have valid feature names, but PCA was fitted with feature names\n",
      "X does not have valid feature names, but PCA was fitted with feature names\n"
     ]
    },
    {
     "data": {
      "text/html": [
       "<!-- http://127.0.0.1:7001/3029607255248/ -->\n",
       "<iframe src=\"http://127.0.0.1:7001/3029607255248/\" width=100% height=800 frameBorder=\"0\"></iframe>"
      ]
     },
     "metadata": {},
     "output_type": "display_data"
    }
   ],
   "source": [
    "from interpret.blackbox import PartialDependence\n",
    "\n",
    "pdp = PartialDependence(predict_fn=blackbox_model.predict_proba, data=X_train)\n",
    "pdp_global = pdp.explain_global(name='Partial Dependence')\n",
    "\n",
    "show(pdp_global)"
   ]
  },
  {
   "cell_type": "markdown",
   "metadata": {},
   "source": [
    "## Compare them all in the Dashboard"
   ]
  },
  {
   "cell_type": "code",
   "execution_count": 8,
   "metadata": {
    "scrolled": false
   },
   "outputs": [
    {
     "data": {
      "text/html": [
       "<!-- http://127.0.0.1:7001/3029608506560/ -->\n",
       "<a href=\"http://127.0.0.1:7001/3029608506560/\" target=\"_new\">Open in new window</a><iframe src=\"http://127.0.0.1:7001/3029608506560/\" width=100% height=800 frameBorder=\"0\"></iframe>"
      ]
     },
     "metadata": {},
     "output_type": "display_data"
    }
   ],
   "source": [
    "show([blackbox_perf, lime_local, shap_local, sensitivity_global, pdp_global])"
   ]
  }
 ],
 "metadata": {
  "kernelspec": {
   "display_name": "interactive",
   "language": "python",
   "name": "interactive"
  },
  "language_info": {
   "codemirror_mode": {
    "name": "ipython",
    "version": 3
   },
   "file_extension": ".py",
   "mimetype": "text/x-python",
   "name": "python",
   "nbconvert_exporter": "python",
   "pygments_lexer": "ipython3",
   "version": "3.10.8"
  }
 },
 "nbformat": 4,
 "nbformat_minor": 2
}
